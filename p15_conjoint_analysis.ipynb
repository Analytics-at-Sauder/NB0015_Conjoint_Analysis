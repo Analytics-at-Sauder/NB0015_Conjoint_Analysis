{
 "cells": [
  {
   "cell_type": "markdown",
   "metadata": {},
   "source": [
    "## Conjoint Analysis\n",
    "\n",
    "In this project, we would review conjoint Analysis and its application when introducing a new product into the market. Rank-based conjoint analysis is carried out in this project using multiple linear regression. We encourage you to create your own Jupytor notebook and follow along. You can also download this notebook together with any affiliated data in the [Notebooks and Data](https://github.com/Master-of-Business-Analytics/Notebooks_and_Data) GitHub repository. Alternatively, if you do not have Python or Jupyter Notebook installed yet, you may experiment with a virtual notebook by launching Binder or Syzygy below (learn more about these two tools in the [Resource](https://analytics-at-sauder.github.io/resource.html) tab). \n",
    "\n",
    "<a href=\"https://ubc.syzygy.ca/jupyter/hub/user-redirect/git-pull?repo=https%3A%2F%2Fgithub.com%2FAnalytics-at-Sauder%2FProject_15_Conjoint_Analysis&urlpath=tree%2FProject_15_Conjoint_Analysis%2Fp15_conjoint_analysis.ipynb&branch=master\" target=\"_blank\" class=\"button\">Launch Syzygy (UBC)</a>\n",
    "\n",
    "<a href=\"https://pims.syzygy.ca/jupyter/hub/user-redirect/git-pull?repo=https%3A%2F%2Fgithub.com%2FAnalytics-at-Sauder%2FProject_15_Conjoint_Analysis&urlpath=tree%2FProject_15_Conjoint_Analysis%2Fp15_conjoint_analysis.ipynb&branch=master\" target=\"_blank\" class=\"button\">Launch Syzygy (Google)</a>\n",
    "\n",
    "<a href=\"https://mybinder.org/v2/gh/Analytics-at-Sauder/Project_15_Conjoint_Analysis/master?filepath=p15_conjoint_analysis.ipynb\" target=\"_blank\" class=\"button\">Launch Binder</a>\n",
    "\n",
    "\n",
    "## Business Problem\n",
    "---\n",
    "\n",
    "In this project, we would review conjoint Analysis and its application when introducing a new product into the market. The project focuses on the evaluation of market research for a new brand of beer. The simulated data set is described by 3 attributes that describe a part of the beer to be introduced in the market: Price point, After Taste, Calorie level. All attributes but the After taste attribute have levels. Rank-based conjoint analysis answers the following questions:\n",
    "\n",
    "1. How important are certain features of a product are to consumers \n",
    "2. Identify the trade-offs consumers are willing to make, with regards to the product features\n",
    "\n",
    "\n",
    "### Rank Based Conjoint Analysis\n",
    "There are various ways to perform conjoint analysis, however, in this project, we would focus on rank-based conjoint analysis. A Rank-Based Conjoint (RBC) model consists of exposing respondents to a set of product profiles described in terms of the same attributes (with varying levels) and ask them to rank the product profiles from the best to the worst.\n",
    "\n",
    "### Data \n",
    "The dataset is an aggregated response from several survey responders. There are two columns, Rank and Stimulus. The rank column shows how each of the 18 combinations is ranked and the stimulus is product combinations.\n",
    "\n",
    "<b> Attribute/Levels </b> \n",
    "\n",
    "* A is Price with 3 levels:   \n",
    "     1. 6 Dollars \n",
    "     2. 5 Dollars\n",
    "     3. 4 Dollars \n",
    "* B is After-Taste with 2 levels: \n",
    "     1. Strong\n",
    "     2. Mild    \n",
    "* C is Calories with 3 levels:\n",
    "     1. Full\n",
    "     2. Regular\n",
    "     3. Low \n"
   ]
  },
  {
   "cell_type": "code",
   "execution_count": null,
   "metadata": {},
   "outputs": [],
   "source": [
    "import numpy as np\n",
    "import pandas as pd\n",
    "import statsmodels.api as sm\n",
    "import matplotlib.pyplot as plt\n",
    "%matplotlib inline"
   ]
  },
  {
   "cell_type": "code",
   "execution_count": 64,
   "metadata": {},
   "outputs": [
    {
     "data": {
      "text/html": [
       "<div>\n",
       "<style scoped>\n",
       "    .dataframe tbody tr th:only-of-type {\n",
       "        vertical-align: middle;\n",
       "    }\n",
       "\n",
       "    .dataframe tbody tr th {\n",
       "        vertical-align: top;\n",
       "    }\n",
       "\n",
       "    .dataframe thead th {\n",
       "        text-align: right;\n",
       "    }\n",
       "</style>\n",
       "<table border=\"1\" class=\"dataframe\">\n",
       "  <thead>\n",
       "    <tr style=\"text-align: right;\">\n",
       "      <th></th>\n",
       "      <th>Stimulus</th>\n",
       "      <th>Rank</th>\n",
       "    </tr>\n",
       "  </thead>\n",
       "  <tbody>\n",
       "    <tr>\n",
       "      <th>0</th>\n",
       "      <td>A1B1C1</td>\n",
       "      <td>2</td>\n",
       "    </tr>\n",
       "    <tr>\n",
       "      <th>1</th>\n",
       "      <td>A1B1C2</td>\n",
       "      <td>3</td>\n",
       "    </tr>\n",
       "    <tr>\n",
       "      <th>2</th>\n",
       "      <td>A1B1C3</td>\n",
       "      <td>1</td>\n",
       "    </tr>\n",
       "    <tr>\n",
       "      <th>3</th>\n",
       "      <td>A1B2C1</td>\n",
       "      <td>5</td>\n",
       "    </tr>\n",
       "  </tbody>\n",
       "</table>\n",
       "</div>"
      ],
      "text/plain": [
       "  Stimulus  Rank\n",
       "0   A1B1C1     2\n",
       "1   A1B1C2     3\n",
       "2   A1B1C3     1\n",
       "3   A1B2C1     5"
      ]
     },
     "execution_count": 64,
     "metadata": {},
     "output_type": "execute_result"
    }
   ],
   "source": [
    "Data = pd.read_csv(\"ConjointInput.csv\", sep = \";\")\n",
    "Data.head(4)"
   ]
  },
  {
   "cell_type": "markdown",
   "metadata": {},
   "source": [
    "## Data Manipulation\n",
    "The stimulus column is a bit cryptic, so some data manipulation is done here. There are in total 8 different product features, and 18 different combinations."
   ]
  },
  {
   "cell_type": "code",
   "execution_count": 68,
   "metadata": {},
   "outputs": [
    {
     "data": {
      "text/html": [
       "<div>\n",
       "<style scoped>\n",
       "    .dataframe tbody tr th:only-of-type {\n",
       "        vertical-align: middle;\n",
       "    }\n",
       "\n",
       "    .dataframe tbody tr th {\n",
       "        vertical-align: top;\n",
       "    }\n",
       "\n",
       "    .dataframe thead th {\n",
       "        text-align: right;\n",
       "    }\n",
       "</style>\n",
       "<table border=\"1\" class=\"dataframe\">\n",
       "  <thead>\n",
       "    <tr style=\"text-align: right;\">\n",
       "      <th></th>\n",
       "      <th>Rank</th>\n",
       "      <th>A1</th>\n",
       "      <th>A2</th>\n",
       "      <th>A3</th>\n",
       "      <th>B1</th>\n",
       "      <th>B2</th>\n",
       "      <th>C1</th>\n",
       "      <th>C2</th>\n",
       "      <th>C3</th>\n",
       "    </tr>\n",
       "  </thead>\n",
       "  <tbody>\n",
       "    <tr>\n",
       "      <th>0</th>\n",
       "      <td>2</td>\n",
       "      <td>1.0</td>\n",
       "      <td>0.0</td>\n",
       "      <td>0.0</td>\n",
       "      <td>1.0</td>\n",
       "      <td>0.0</td>\n",
       "      <td>1.0</td>\n",
       "      <td>0.0</td>\n",
       "      <td>0.0</td>\n",
       "    </tr>\n",
       "    <tr>\n",
       "      <th>1</th>\n",
       "      <td>3</td>\n",
       "      <td>1.0</td>\n",
       "      <td>0.0</td>\n",
       "      <td>0.0</td>\n",
       "      <td>1.0</td>\n",
       "      <td>0.0</td>\n",
       "      <td>0.0</td>\n",
       "      <td>1.0</td>\n",
       "      <td>0.0</td>\n",
       "    </tr>\n",
       "    <tr>\n",
       "      <th>2</th>\n",
       "      <td>1</td>\n",
       "      <td>1.0</td>\n",
       "      <td>0.0</td>\n",
       "      <td>0.0</td>\n",
       "      <td>1.0</td>\n",
       "      <td>0.0</td>\n",
       "      <td>0.0</td>\n",
       "      <td>0.0</td>\n",
       "      <td>1.0</td>\n",
       "    </tr>\n",
       "    <tr>\n",
       "      <th>3</th>\n",
       "      <td>5</td>\n",
       "      <td>1.0</td>\n",
       "      <td>0.0</td>\n",
       "      <td>0.0</td>\n",
       "      <td>0.0</td>\n",
       "      <td>1.0</td>\n",
       "      <td>1.0</td>\n",
       "      <td>0.0</td>\n",
       "      <td>0.0</td>\n",
       "    </tr>\n",
       "    <tr>\n",
       "      <th>4</th>\n",
       "      <td>6</td>\n",
       "      <td>1.0</td>\n",
       "      <td>0.0</td>\n",
       "      <td>0.0</td>\n",
       "      <td>0.0</td>\n",
       "      <td>1.0</td>\n",
       "      <td>0.0</td>\n",
       "      <td>1.0</td>\n",
       "      <td>0.0</td>\n",
       "    </tr>\n",
       "  </tbody>\n",
       "</table>\n",
       "</div>"
      ],
      "text/plain": [
       "   Rank   A1   A2   A3   B1   B2   C1   C2   C3\n",
       "0     2  1.0  0.0  0.0  1.0  0.0  1.0  0.0  0.0\n",
       "1     3  1.0  0.0  0.0  1.0  0.0  0.0  1.0  0.0\n",
       "2     1  1.0  0.0  0.0  1.0  0.0  0.0  0.0  1.0\n",
       "3     5  1.0  0.0  0.0  0.0  1.0  1.0  0.0  0.0\n",
       "4     6  1.0  0.0  0.0  0.0  1.0  0.0  1.0  0.0"
      ]
     },
     "execution_count": 68,
     "metadata": {},
     "output_type": "execute_result"
    }
   ],
   "source": [
    "#create an 18 row by 9 column dataframe of zeros\n",
    "\n",
    "ConjointDummyDF = pd.DataFrame(np.zeros((18,9)), columns=[\"Rank\",\"A1\", \"A2\", \"A3\",\n",
    "                                                    \"B1\",\"B2\", \n",
    "                                                    \"C1\", \"C2\",\n",
    "                                                    \"C3\"])\n",
    "#converting data table to dataframe with dumnmy variables\n",
    "# transfer rank column\n",
    "ConjointDummyDF.Rank = Data.Rank\n",
    "# For loop that inserts 1 if column name is present\n",
    "for index, row in Data.iterrows(): \n",
    "    stimuli1, stimuli2, stimuli3 = Data[\"Stimulus\"].loc[index][:2], \\\n",
    "    Data[\"Stimulus\"].loc[index][2:4], Data[\"Stimulus\"].loc[index][4:6]\n",
    "    \n",
    "    \n",
    "    ConjointDummyDF.loc[index, [stimuli1,stimuli2,stimuli3]] = 1\n",
    "\n",
    "ConjointDummyDF.head()"
   ]
  },
  {
   "cell_type": "code",
   "execution_count": 70,
   "metadata": {},
   "outputs": [
    {
     "data": {
      "text/html": [
       "<div>\n",
       "<style scoped>\n",
       "    .dataframe tbody tr th:only-of-type {\n",
       "        vertical-align: middle;\n",
       "    }\n",
       "\n",
       "    .dataframe tbody tr th {\n",
       "        vertical-align: top;\n",
       "    }\n",
       "\n",
       "    .dataframe thead th {\n",
       "        text-align: right;\n",
       "    }\n",
       "</style>\n",
       "<table border=\"1\" class=\"dataframe\">\n",
       "  <thead>\n",
       "    <tr style=\"text-align: right;\">\n",
       "      <th></th>\n",
       "      <th>Rank</th>\n",
       "      <th>$6</th>\n",
       "      <th>$5</th>\n",
       "      <th>$4</th>\n",
       "      <th>Strong After Taste</th>\n",
       "      <th>Mild After Taste</th>\n",
       "      <th>Full Calories</th>\n",
       "      <th>Regular Calories</th>\n",
       "      <th>Low Calories</th>\n",
       "    </tr>\n",
       "  </thead>\n",
       "  <tbody>\n",
       "    <tr>\n",
       "      <th>0</th>\n",
       "      <td>2</td>\n",
       "      <td>1.0</td>\n",
       "      <td>0.0</td>\n",
       "      <td>0.0</td>\n",
       "      <td>1.0</td>\n",
       "      <td>0.0</td>\n",
       "      <td>1.0</td>\n",
       "      <td>0.0</td>\n",
       "      <td>0.0</td>\n",
       "    </tr>\n",
       "    <tr>\n",
       "      <th>1</th>\n",
       "      <td>3</td>\n",
       "      <td>1.0</td>\n",
       "      <td>0.0</td>\n",
       "      <td>0.0</td>\n",
       "      <td>1.0</td>\n",
       "      <td>0.0</td>\n",
       "      <td>0.0</td>\n",
       "      <td>1.0</td>\n",
       "      <td>0.0</td>\n",
       "    </tr>\n",
       "    <tr>\n",
       "      <th>2</th>\n",
       "      <td>1</td>\n",
       "      <td>1.0</td>\n",
       "      <td>0.0</td>\n",
       "      <td>0.0</td>\n",
       "      <td>1.0</td>\n",
       "      <td>0.0</td>\n",
       "      <td>0.0</td>\n",
       "      <td>0.0</td>\n",
       "      <td>1.0</td>\n",
       "    </tr>\n",
       "    <tr>\n",
       "      <th>3</th>\n",
       "      <td>5</td>\n",
       "      <td>1.0</td>\n",
       "      <td>0.0</td>\n",
       "      <td>0.0</td>\n",
       "      <td>0.0</td>\n",
       "      <td>1.0</td>\n",
       "      <td>1.0</td>\n",
       "      <td>0.0</td>\n",
       "      <td>0.0</td>\n",
       "    </tr>\n",
       "    <tr>\n",
       "      <th>4</th>\n",
       "      <td>6</td>\n",
       "      <td>1.0</td>\n",
       "      <td>0.0</td>\n",
       "      <td>0.0</td>\n",
       "      <td>0.0</td>\n",
       "      <td>1.0</td>\n",
       "      <td>0.0</td>\n",
       "      <td>1.0</td>\n",
       "      <td>0.0</td>\n",
       "    </tr>\n",
       "  </tbody>\n",
       "</table>\n",
       "</div>"
      ],
      "text/plain": [
       "   Rank   $6   $5   $4  Strong After Taste  Mild After Taste  Full Calories  \\\n",
       "0     2  1.0  0.0  0.0                 1.0               0.0            1.0   \n",
       "1     3  1.0  0.0  0.0                 1.0               0.0            0.0   \n",
       "2     1  1.0  0.0  0.0                 1.0               0.0            0.0   \n",
       "3     5  1.0  0.0  0.0                 0.0               1.0            1.0   \n",
       "4     6  1.0  0.0  0.0                 0.0               1.0            0.0   \n",
       "\n",
       "   Regular Calories  Low Calories  \n",
       "0               0.0           0.0  \n",
       "1               1.0           0.0  \n",
       "2               0.0           1.0  \n",
       "3               0.0           0.0  \n",
       "4               1.0           0.0  "
      ]
     },
     "execution_count": 70,
     "metadata": {},
     "output_type": "execute_result"
    }
   ],
   "source": [
    "fullNames = {\"Rank\":\"Rank\", \\\n",
    "           \"A1\": \"$6\",\"A2\": \"$5\",\"A3\": \"$4\", \\\n",
    "          \"B1\": \"Strong After Taste\", \"B2\":\"Mild After Taste\", \\\n",
    "           \"C1\":\"Full Calories\", \"C2\":\"Regular Calories\", \"C3\": \"Low Calories\",\\\n",
    "          }\n",
    "#assign names to column names\n",
    "ConjointDummyDF.rename(columns=fullNames, inplace=True)\n",
    "#confirm that the names of the columns have changed\n",
    "ConjointDummyDF.head()"
   ]
  },
  {
   "cell_type": "markdown",
   "metadata": {},
   "source": [
    "## Linear Regression\n",
    "Conjoint analysis works by observing how respondents preferences change as one systematically varies the product features. It examines how they trade-off different aspects of the product, weighing options that have a mix of more desirable and less desirable qualities. The observations allow one to statistically deduce through linear regression, the part-worth of all of the levels across the product attributes.\n",
    "Multiple linear regression attempts to model the relationship between multiple explanatory variables such as the product features and a response variable, which is the product rank by fitting a linear equation to observed data."
   ]
  },
  {
   "cell_type": "code",
   "execution_count": 108,
   "metadata": {},
   "outputs": [
    {
     "data": {
      "text/html": [
       "<div>\n",
       "<style scoped>\n",
       "    .dataframe tbody tr th:only-of-type {\n",
       "        vertical-align: middle;\n",
       "    }\n",
       "\n",
       "    .dataframe tbody tr th {\n",
       "        vertical-align: top;\n",
       "    }\n",
       "\n",
       "    .dataframe thead th {\n",
       "        text-align: right;\n",
       "    }\n",
       "</style>\n",
       "<table border=\"1\" class=\"dataframe\">\n",
       "  <thead>\n",
       "    <tr style=\"text-align: right;\">\n",
       "      <th></th>\n",
       "      <th>feature</th>\n",
       "      <th>part_worth</th>\n",
       "      <th>pval</th>\n",
       "    </tr>\n",
       "  </thead>\n",
       "  <tbody>\n",
       "    <tr>\n",
       "      <th>const</th>\n",
       "      <td>const</td>\n",
       "      <td>4.384615</td>\n",
       "      <td>1.931004e-185</td>\n",
       "    </tr>\n",
       "    <tr>\n",
       "      <th>$6</th>\n",
       "      <td>$6</td>\n",
       "      <td>-4.538462</td>\n",
       "      <td>9.384234e-180</td>\n",
       "    </tr>\n",
       "    <tr>\n",
       "      <th>$5</th>\n",
       "      <td>$5</td>\n",
       "      <td>1.461538</td>\n",
       "      <td>7.543620e-174</td>\n",
       "    </tr>\n",
       "    <tr>\n",
       "      <th>$4</th>\n",
       "      <td>$4</td>\n",
       "      <td>7.461538</td>\n",
       "      <td>2.406369e-182</td>\n",
       "    </tr>\n",
       "    <tr>\n",
       "      <th>Strong After Taste</th>\n",
       "      <td>Strong After Taste</td>\n",
       "      <td>0.692308</td>\n",
       "      <td>1.175104e-171</td>\n",
       "    </tr>\n",
       "    <tr>\n",
       "      <th>Mild After Taste</th>\n",
       "      <td>Mild After Taste</td>\n",
       "      <td>3.692308</td>\n",
       "      <td>2.218664e-180</td>\n",
       "    </tr>\n",
       "    <tr>\n",
       "      <th>Full Calories</th>\n",
       "      <td>Full Calories</td>\n",
       "      <td>1.461538</td>\n",
       "      <td>7.543620e-174</td>\n",
       "    </tr>\n",
       "    <tr>\n",
       "      <th>Regular Calories</th>\n",
       "      <td>Regular Calories</td>\n",
       "      <td>2.461538</td>\n",
       "      <td>1.448182e-176</td>\n",
       "    </tr>\n",
       "    <tr>\n",
       "      <th>Low Calories</th>\n",
       "      <td>Low Calories</td>\n",
       "      <td>0.461538</td>\n",
       "      <td>7.670223e-168</td>\n",
       "    </tr>\n",
       "  </tbody>\n",
       "</table>\n",
       "</div>"
      ],
      "text/plain": [
       "                               feature  part_worth           pval\n",
       "const                            const    4.384615  1.931004e-185\n",
       "$6                                  $6   -4.538462  9.384234e-180\n",
       "$5                                  $5    1.461538  7.543620e-174\n",
       "$4                                  $4    7.461538  2.406369e-182\n",
       "Strong After Taste  Strong After Taste    0.692308  1.175104e-171\n",
       "Mild After Taste      Mild After Taste    3.692308  2.218664e-180\n",
       "Full Calories            Full Calories    1.461538  7.543620e-174\n",
       "Regular Calories      Regular Calories    2.461538  1.448182e-176\n",
       "Low Calories              Low Calories    0.461538  7.670223e-168"
      ]
     },
     "execution_count": 108,
     "metadata": {},
     "output_type": "execute_result"
    }
   ],
   "source": [
    "#assign all columns apart from rank is assigned to variable X, which represents x axis\n",
    "X = ConjointDummyDF[[\"$6\", \"$5\",\"$4\", \"Strong After Taste\",\"Mild After Taste\",\n",
    "\"Full Calories\",\"Regular Calories\", \"Low Calories\"]]\n",
    "\n",
    "#assign a constant to be defined as a benchmark\n",
    "X = sm.add_constant(X)\n",
    "#assign rank to Y variable\n",
    "Y = ConjointDummyDF.Rank\n",
    "#generate Linear regression model\n",
    "linearRegression = sm.OLS(Y, X). fit()\n",
    "\n",
    "#output of regression\n",
    "df_res = pd.DataFrame({\n",
    "    'feature': linearRegression.params.keys()\n",
    "    , 'part_worth': linearRegression.params.values\n",
    "    , 'pval': linearRegression.pvalues\n",
    "})\n",
    "df_res"
   ]
  },
  {
   "cell_type": "markdown",
   "metadata": {},
   "source": [
    "## Part Worth or Relative utility\n",
    "Central to the theory of conjoint analysis is the concept of product utility. Utility is a latent variable that reflects how desirable or valuable an object is in the mind of the respondent. The utility of a product is assessed from the value of its parts (part-worth). Conjoint analysis examines consumers’ responses to product ratings, rankings or choices, to estimate the part-worth of the various levels of each attribute of a product. Utility is not an absolute unit of measure; only relative values or differences in utilities matter.\n",
    "\n",
    "We therefore focus on the coefficients in the regression output because this represents the average part-worth or relative utility  score across all attribute. The higher the coefficient of a product attribute, the higher the relative utility. There are three different attributes in the eight different levels. The cost $4 ranks highest, at a 7.46. And mild after taste ranks next in line at a 3.69 with regular calories coming in third at 2.46."
   ]
  },
  {
   "cell_type": "markdown",
   "metadata": {},
   "source": [
    "<b> What would be the optimal product bundle? </b>"
   ]
  },
  {
   "cell_type": "code",
   "execution_count": 58,
   "metadata": {},
   "outputs": [
    {
     "data": {
      "text/plain": [
       "[0.5481263776634827, 0.27112417340191036, 0.1807494489346069]"
      ]
     },
     "execution_count": 58,
     "metadata": {},
     "output_type": "execute_result"
    }
   ],
   "source": [
    "# Normalize values for each feature for the pie chart\n",
    "raw = [7.46,3.69,2.46]\n",
    "norm = [float(i)/sum(raw) for i in raw]\n",
    "norm"
   ]
  },
  {
   "cell_type": "code",
   "execution_count": 116,
   "metadata": {},
   "outputs": [
    {
     "data": {
      "image/png": "[encoded data removed]",
      "text/plain": [
       "<Figure size 432x288 with 1 Axes>"
      ]
     },
     "metadata": {},
     "output_type": "display_data"
    }
   ],
   "source": [
    "# Graph our winning product features\n",
    "\n",
    "labels = '4$ Price', 'Mild After taste', 'Regular Calories'\n",
    "#using values above\n",
    "sizes = [54.8, 27.1, 18.1]\n",
    "colors = ['yellowgreen', 'mediumpurple', 'lightskyblue'] \n",
    "explode = (0.1, 0, 0)    \n",
    "plt.pie(sizes,              \n",
    "        explode=explode,   \n",
    "        labels=labels,      \n",
    "        colors=colors,      \n",
    "        autopct='%1.1f%%',  \n",
    "        shadow=True,        \n",
    "        startangle=70       \n",
    "        )\n",
    "\n",
    "plt.axis('equal')\n",
    "plt.title('Ideal product Based on Responses')\n",
    "plt.show()"
   ]
  },
  {
   "cell_type": "markdown",
   "metadata": {},
   "source": [
    "## Relative importance of the product attributes\n",
    "The part worth is used to derive the importance and the relative importance of an attribute of the product. Attribute importance is the difference between the highest and lowest utility level of the attribute. Relative importance of an attribute is essentially its share of importance.\n",
    "\n",
    "If the distance between the utility levels of an attribute is large, then that attribute will have a larger bearing on the respondents choice of product than another attribute where the distance is not as large. The distance therefore is a reflection of the importance of the attribute in determining consumer preferences.\n",
    "\n",
    "* Distance = Max(part-worth) - Min(part-worth) \n",
    "* Weight of attribute/importance = attribute distance / Sum(attribute distance)"
   ]
  },
  {
   "cell_type": "code",
   "execution_count": 97,
   "metadata": {},
   "outputs": [],
   "source": [
    "#Attribute importances\n",
    "\n",
    "price= ['$4', '$5', '$6']\n",
    "Taste = ['Strong After Taste', 'Mild After Taste']\n",
    "Calories = ['Full Calories', 'Regular Calories', 'Low Calories']\n",
    "#function to calculate distance\n",
    "def distance_cal(lista):\n",
    "    newlist =[]\n",
    "    for item in lista:\n",
    "        x= df_res.part_worth[(df_res['feature'] == item)][0]\n",
    "        newlist.append(x)\n",
    "    return max(newlist) - min(newlist)\n",
    "  "
   ]
  },
  {
   "cell_type": "code",
   "execution_count": 107,
   "metadata": {},
   "outputs": [
    {
     "name": "stdout",
     "output_type": "stream",
     "text": [
      "\n",
      " Attribute :  Price\n",
      "\n",
      " Distance :  11.999999999999993\n",
      "\n",
      " Importance %:  0.7058823529411763\n",
      "-----------------------\n",
      "\n",
      " Attribute :  Taste\n",
      "\n",
      " Distance :  3.0000000000000013\n",
      "\n",
      " Importance %:  0.17647058823529427\n",
      "-----------------------\n",
      "\n",
      " Attribute :  Calories\n",
      "\n",
      " Distance :  1.9999999999999987\n",
      "\n",
      " Importance %:  0.11764705882352938\n",
      "-----------------------\n"
     ]
    }
   ],
   "source": [
    "#create list of lists to be used in calculating the attribute importance and weight\n",
    "attributes= [price,Taste,Calories]\n",
    "\n",
    "#Create list attribute names\n",
    "attributename = ['Price','Taste','Calories']\n",
    "#Sum of attribute distance \n",
    "sum_dist = distance_cal(price) + distance_cal(Taste) + distance_cal(Calories)\n",
    "i=0\n",
    "#For loop to print values of distance and weight for each variable\n",
    "for item in attributes : \n",
    "    print(\"\\n Attribute : \" , attributename[i])\n",
    "    print (\"\\n Distance : \" , distance_cal(item))\n",
    "    print (\"\\n Importance %: \" , distance_cal(item)/sum_dist)\n",
    "    print(\"-----------------------\")\n",
    "    i=i+1\n"
   ]
  },
  {
   "cell_type": "code",
   "execution_count": 115,
   "metadata": {},
   "outputs": [
    {
     "data": {
      "image/png": "[encoded data removed]",
      "text/plain": [
       "<Figure size 432x288 with 1 Axes>"
      ]
     },
     "metadata": {},
     "output_type": "display_data"
    }
   ],
   "source": [
    "#Ploting the importance\n",
    "sizes = [distance_cal(price)/sum_dist, distance_cal(Taste)/sum_dist, distance_cal(Calories)/sum_dist]\n",
    "colors = ['yellowgreen', 'mediumpurple', 'lightskyblue'] \n",
    "explode = (0.1, 0, 0)    \n",
    "plt.pie(sizes,              \n",
    "        explode=explode,   \n",
    "        labels=attributename,      \n",
    "        colors=colors,      \n",
    "        autopct='%1.1f%%',          \n",
    "        startangle=70       \n",
    "        )\n",
    "\n",
    "plt.axis('equal')\n",
    "plt.title('Attribute Importance')\n",
    "plt.show()"
   ]
  },
  {
   "cell_type": "markdown",
   "metadata": {},
   "source": [
    "\n",
    "## Trade off analysis\n",
    "Product developers are constantly faced with trade-offs. For instance, changing the taste of the beer from a strong after taste to a mild after taste would result in an increase in price as the beer requires more additional resources. Whether this could result in an increase in demand could be determined by examining the trade-offs that consumers are willing to make.The figure below provides an illustration of attribute part-worth that is considered in the trade-off analysis. "
   ]
  },
  {
   "cell_type": "code",
   "execution_count": 117,
   "metadata": {},
   "outputs": [
    {
     "data": {
      "image/png": "[encoded data removed]",
      "text/plain": [
       "<Figure size 1008x576 with 1 Axes>"
      ]
     },
     "metadata": {
      "needs_background": "light"
     },
     "output_type": "display_data"
    }
   ],
   "source": [
    "f, ax = plt.subplots(figsize=(14, 8))\n",
    "plt.title('Attribute Part Worth')\n",
    "pwu = df_res['part_worth']\n",
    "\n",
    "xbar = np.arange(len(pwu))\n",
    "my_colors = ['black','blue','blue','blue','red','red','yellow','yellow','yellow']\n",
    "plt.barh(xbar, pwu,color=my_colors)\n",
    "plt.yticks(xbar, labels=df_res['feature'])\n",
    "plt.show()\n"
   ]
  },
  {
   "cell_type": "markdown",
   "metadata": {},
   "source": [
    "Knowledge of the relative importance of various attributes can assist in marketing and advertising decisions. Other factors being equal, one would devote greater attention and resource to improving a product, on attributes that are of greatest importance to target consumers.\n",
    "\n",
    "## Final Conclusion\n",
    "Conjoint analysis is a marketing research technique designed to help managers determine the preferences of customers and potential customers. In particular, it seeks to determine how consumers value the different attributes that make up a product and the trade-offs they are willing to make among the different attributes or features that compose the product. As such, conjoint analysis is best suited for products that have very tangible attributes that can be easily described or quantified.\n",
    "\n",
    "## Reference\n",
    "1. Conjoint Analysis. (n.d.). Retrieved from https://www.ashokcharan.com/Marketing-Analytics/~pd-conjoint-analysis.php\n",
    "2. Herka. (2020). Traditional-Conjoint-Analysis-with-Python. Retrieved from https://github.com/Herka/Traditional-Conjoint-Analysis-with-Python/blob/master/Traditional Conjoint Analyse.ipynb\n",
    "3. Pratama, A. (2018, December 04). How to Do Conjoint Analysis in python. Retrieved August 5, 2020, from https://ariepratama.github.io/How-to-do-conjoint-analysis-in-python/\n",
    "4. Sreenivas, P., & Follow. (2019). Conjoint Analysis: A simple python implementation. Retrieved from https://www.linkedin.com/pulse/conjoint-analysis-simple-python-implementation-prajwal-sreenivas\n",
    "5. Wilcox, Ronald T., A Practical Guide to Conjoint Analysis. Darden Case No. UVA-M-0675, Available at SSRN: https://ssrn.com/abstract=910102\n"
   ]
  }
 ],
 "metadata": {
  "kernelspec": {
   "display_name": "Python 3",
   "language": "python",
   "name": "python3"
  },
  "language_info": {
   "codemirror_mode": {
    "name": "ipython",
    "version": 3
   },
   "file_extension": ".py",
   "mimetype": "text/x-python",
   "name": "python",
   "nbconvert_exporter": "python",
   "pygments_lexer": "ipython3",
   "version": "3.7.7"
  },
  "toc": {
   "base_numbering": 1,
   "nav_menu": {},
   "number_sections": false,
   "sideBar": true,
   "skip_h1_title": false,
   "title_cell": "Table of Contents",
   "title_sidebar": "Contents",
   "toc_cell": false,
   "toc_position": {},
   "toc_section_display": true,
   "toc_window_display": false
  }
 },
 "nbformat": 4,
 "nbformat_minor": 1
}
